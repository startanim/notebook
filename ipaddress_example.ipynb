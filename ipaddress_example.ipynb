{
 "cells": [
  {
   "cell_type": "markdown",
   "metadata": {},
   "source": [
    "## This is an example to create standard access control lists (ACLs) from subnet in python 3"
   ]
  },
  {
   "cell_type": "code",
   "execution_count": 87,
   "metadata": {},
   "outputs": [
    {
     "name": "stdout",
     "output_type": "stream",
     "text": [
      "access-list 10 deny 10.254.26.0 0.0.0.255\n",
      "access-list 20 deny 20.54.0.0 0.0.255.255\n",
      "access-list 30 deny 30.64.96.0 0.0.0.63\n",
      "access-list 40 deny 40.74.76.0 0.0.0.15\n"
     ]
    }
   ],
   "source": [
    "import ipaddress , re\n",
    "\n",
    "ab = bc = cd = []\n",
    "n = 10\n",
    "s=\"\"\"10.254.26.0/24\n",
    "20.54.0.0/16\n",
    "30.64.96.0/26\n",
    "40.74.76.0/28\"\"\"\n",
    "\n",
    "bc = s.split('\\n')\n",
    "#print(bc)\n",
    "for ln in bc:\n",
    "    ab = ln.strip()\n",
    "    #print(ab)\n",
    "    de = ipaddress.ip_network(ab)\n",
    "    #kj=[]\n",
    "    kn=[]\n",
    "    ef = str(de.with_netmask)\n",
    "    #print(type(ef))\n",
    "    \n",
    "    fg=ef.split('/')\n",
    "    #print(fg[1])\n",
    "    \n",
    "    gh=fg[1].split('.')\n",
    "    #print(gh)\n",
    "    for jn in gh:\n",
    "        cn = 255 - int(jn)       \n",
    "        kn.append(str(cn))\n",
    "        kj='.'.join(kn)\n",
    "    \n",
    "    print(\"access-list \"+str(n)+ \" deny \"+fg[0]+\" \"+kj)\n",
    "    n+=10\n",
    "    #print(kj) \n"
   ]
  },
  {
   "cell_type": "code",
   "execution_count": 76,
   "metadata": {},
   "outputs": [
    {
     "name": "stdout",
     "output_type": "stream",
     "text": [
      "access-list 10 deny 10.254.26.0 0.0.0.255\n",
      "access-list 20 deny 20.54.0.0 0.0.255.255\n",
      "access-list 30 deny 30.64.96.0 0.0.0.63\n",
      "access-list 40 deny 40.74.76.0 0.0.0.15\n"
     ]
    }
   ],
   "source": [
    "import ipaddress , re\n",
    "\n",
    "ab = bc = cd = []\n",
    "n = 10\n",
    "s=\"\"\"10.254.26.0/24\n",
    "20.54.0.0/16\n",
    "30.64.96.0/26\n",
    "40.74.76.0/28\"\"\"\n",
    "\n",
    "bc = s.split('\\n')\n",
    "#print(bc)\n",
    "for ln in bc:\n",
    "    ab = ln.strip()\n",
    "    #print(ab)\n",
    "    de = ipaddress.ip_network(ab)\n",
    "    #dg = de.with_netmask\n",
    "    \n",
    "    df = de.with_hostmask\n",
    "    #print(df,dg)\n",
    "    \n",
    "    fg=df.split('/')\n",
    "    \n",
    "    #print(fg[1])\n",
    "\n",
    "    print(\"access-list \"+str(n)+ \" deny \"+fg[0]+\" \"+fg[1]) \n",
    "    n+=10"
   ]
  },
  {
   "cell_type": "code",
   "execution_count": null,
   "metadata": {},
   "outputs": [],
   "source": []
  }
 ],
 "metadata": {
  "kernelspec": {
   "display_name": "Python 3",
   "language": "python",
   "name": "python3"
  },
  "language_info": {
   "codemirror_mode": {
    "name": "ipython",
    "version": 3
   },
   "file_extension": ".py",
   "mimetype": "text/x-python",
   "name": "python",
   "nbconvert_exporter": "python",
   "pygments_lexer": "ipython3",
   "version": "3.6.5"
  }
 },
 "nbformat": 4,
 "nbformat_minor": 2
}
